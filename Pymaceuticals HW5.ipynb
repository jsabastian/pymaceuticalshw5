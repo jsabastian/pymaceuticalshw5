{
 "cells": [
  {
   "cell_type": "markdown",
   "metadata": {},
   "source": [
    "## Analysis\n",
    "\n",
    "### 1: What seems very obvious is the decreased tumor burden in mice treated with Capomulin over the 45 days.\n",
    "\n",
    "### 2: Looking at the boxplot data, it appears that Ramicane may have a similar effect on tumor growth. \n",
    "\n",
    "### 3: The pie chart indicates that there is an equal number of each sex in the study, which can further allow for  gender effect of treatment.\n",
    "\n",
    "### 4: I would like to have seen survival data..."
   ]
  },
  {
   "cell_type": "code",
   "execution_count": null,
   "metadata": {},
   "outputs": [],
   "source": [
    "#import dependencies\n",
    "import matplotlib.pyplot as plt\n",
    "import pandas as pd\n",
    "import scipy.stats as st\n",
    "import numpy as np\n",
    "from scipy.stats import linregress"
   ]
  },
  {
   "cell_type": "code",
   "execution_count": null,
   "metadata": {},
   "outputs": [],
   "source": [
    "# read csv files from working directory\n",
    "mus_meta_df = \"data/Mouse_metadata.csv\"\n",
    "trial_result_df = \"data/Study_results.csv\""
   ]
  },
  {
   "cell_type": "code",
   "execution_count": null,
   "metadata": {},
   "outputs": [],
   "source": [
    "# Read the file into dataframe\n",
    "mus_meta_df = pd.read_csv(mus_meta_df)\n",
    "trial_result_df = pd.read_csv(trial_result_df)"
   ]
  },
  {
   "cell_type": "code",
   "execution_count": null,
   "metadata": {},
   "outputs": [],
   "source": [
    "# View the first 10 rows of data\n",
    "mus_meta_df.head(10)"
   ]
  },
  {
   "cell_type": "code",
   "execution_count": null,
   "metadata": {},
   "outputs": [],
   "source": [
    "# View the first 10 rows of data\n",
    "trial_result_df.head(10)"
   ]
  },
  {
   "cell_type": "code",
   "execution_count": null,
   "metadata": {},
   "outputs": [],
   "source": [
    "#number of rows in the df, for reference after removal of data\n",
    "count_row = trial_result_df.shape[0]\n",
    "count_row"
   ]
  },
  {
   "cell_type": "code",
   "execution_count": null,
   "metadata": {},
   "outputs": [],
   "source": [
    "#id the duplicate id - timepoint data\n",
    "pd.concat(g for _, g in trial_result_df.groupby([\"Mouse ID\",\"Timepoint\"]) if len(g) > 1)"
   ]
  },
  {
   "cell_type": "code",
   "execution_count": null,
   "metadata": {},
   "outputs": [],
   "source": [
    "# remove duplicate data for g989 data,which should be 10 rows\n",
    "trial_result_df.drop_duplicates(subset=[\"Mouse ID\",\"Timepoint\"], keep= False)"
   ]
  },
  {
   "cell_type": "code",
   "execution_count": null,
   "metadata": {},
   "outputs": [],
   "source": [
    "#merge the cleaned dataframes\n",
    "merged_df = pd.merge(mus_meta_df, trial_result_df, on=\"Mouse ID\")\n",
    "merged_df.info()"
   ]
  },
  {
   "cell_type": "code",
   "execution_count": null,
   "metadata": {},
   "outputs": [],
   "source": [
    "#generate a table of summary stats for tumor volume by drug regimen columns\n",
    "# quick aggregation of the data for each of the stats\n",
    "trial_summary = merged_df.groupby('Drug Regimen').agg(\\\n",
    "        tum_vol_avg=('Tumor Volume (mm3)', np.mean),\\\n",
    "                                                      \n",
    "        tum_vol_median=('Tumor Volume (mm3)', np.median),\\\n",
    "                                                      \n",
    "        tum_vol_var=('Tumor Volume (mm3)', np.var),\\\n",
    "                                                      \n",
    "        tum_vol_stdev=('Tumor Volume (mm3)', np.std),\\\n",
    "        # there is no numpy call for sem                                              \n",
    "        tum_vol_sem =('Tumor Volume (mm3)', st.sem)\\\n",
    ").round(3)"
   ]
  },
  {
   "cell_type": "code",
   "execution_count": null,
   "metadata": {},
   "outputs": [],
   "source": [
    "trial_summary"
   ]
  },
  {
   "cell_type": "code",
   "execution_count": null,
   "metadata": {},
   "outputs": [],
   "source": [
    "#use pyplot to gen a barplot of total mice per regimen\n",
    "mice_per_trial = merged_df.groupby('Drug Regimen')"
   ]
  },
  {
   "cell_type": "code",
   "execution_count": null,
   "metadata": {},
   "outputs": [],
   "source": [
    "#grab the number of data points ('mice') per trial\n",
    "mpt_count = pd.DataFrame(mice_per_trial['Drug Regimen'].count())"
   ]
  },
  {
   "cell_type": "code",
   "execution_count": null,
   "metadata": {},
   "outputs": [],
   "source": [
    "#set axis and ticks\n",
    "x_axis = np.arange(len(mpt_count))\n",
    "ticks = [i for i in x_axis]"
   ]
  },
  {
   "cell_type": "code",
   "execution_count": null,
   "metadata": {},
   "outputs": [],
   "source": [
    "# set plot size\n",
    "plt.figure(figsize=(9,8))\n",
    "plt.bar(x_axis, mpt_count[\"Drug Regimen\"], color='black', align=\"center\", width = 0.52)\n",
    "# list of x labels\n",
    "plt.xticks(ticks, list(mpt_count.index), rotation=\"vertical\")\n",
    "\n",
    "# Set axis limits\n",
    "plt.xlim(-0.7, len(x_axis)-0.3)\n",
    "plt.ylim(0, max(mpt_count[\"Drug Regimen\"])*1.4)\n",
    "\n",
    "# titles and axis labels\n",
    "plt.title(\"Total # of Mice per Regimen\")\n",
    "plt.xlabel(\"Drug Regimen\")\n",
    "plt.ylabel(\"Count\")\n",
    "\n",
    "column_name = [\"Drug Regimen\"]\n",
    "plt.legend(column_name,loc=\"best\")\n",
    "\n",
    "plt.show()"
   ]
  },
  {
   "cell_type": "code",
   "execution_count": null,
   "metadata": {},
   "outputs": [],
   "source": [
    "# use pandas to create the same plot\n",
    "\n",
    "mice_per_trial = mpt_count.plot(kind='bar', title=\"Total # of Mice per Regimen\", color=\"black\")\n",
    "\n",
    "# class method for labeling\n",
    "mice_per_trial.set_xlabel(\"Drug Regimen\")\n",
    "mice_per_trial.set_ylabel(\"Count\")\n",
    "\n",
    "plt.show()"
   ]
  },
  {
   "cell_type": "code",
   "execution_count": null,
   "metadata": {},
   "outputs": [],
   "source": [
    "# produce a pieplot of mouse gender makeup\n",
    "gender_df = merged_df.groupby('Sex')\n",
    "\n",
    "#grab the count\n",
    "gender_df_count = pd.DataFrame(gender_df['Sex'].count())"
   ]
  },
  {
   "cell_type": "code",
   "execution_count": null,
   "metadata": {},
   "outputs": [],
   "source": [
    "gender_df_count"
   ]
  },
  {
   "cell_type": "code",
   "execution_count": null,
   "metadata": {},
   "outputs": [],
   "source": [
    "#use pyplot to produce the piechart\n",
    "\n",
    "#use index of the counts df for labels\n",
    "mouse_gender_df = list(gender_df_count.index.values)"
   ]
  },
  {
   "cell_type": "code",
   "execution_count": null,
   "metadata": {},
   "outputs": [],
   "source": [
    "# each section of the chart will have sex as a value\n",
    "gender_df_count = gender_df_count['Sex']"
   ]
  },
  {
   "cell_type": "code",
   "execution_count": null,
   "metadata": {},
   "outputs": [],
   "source": [
    "# format the color of the chart\n",
    "colors = [\"green\", \"yellow\"]"
   ]
  },
  {
   "cell_type": "code",
   "execution_count": null,
   "metadata": {},
   "outputs": [],
   "source": [
    "# calculation and format\n",
    "plt.pie(gender_df_count, labels = mouse_gender_df, colors=colors,\n",
    "        autopct=\"%1.1f%%\", shadow = True, startangle = 140)\n",
    "plt.rcParams['font.size'] = 16\n",
    "plt.title(\"Gender Makeup of the Study\")\n",
    "plt.ylabel('Sex')\n",
    "\n",
    "plt.show()"
   ]
  },
  {
   "cell_type": "code",
   "execution_count": null,
   "metadata": {
    "scrolled": true
   },
   "outputs": [],
   "source": [
    "# use pandas to make the same piechart with the same dataframe\n",
    "gender_df_count.plot(kind = 'pie', \\\n",
    "                        title = \"Gender Makeup of the Study\",startangle = 140,\\\n",
    "                        autopct = '%1.1f%%',shadow = True, fontsize = 16, colors  = [\"green\",\"yellow\"],legend = False)\n",
    "\n",
    "plt.show()"
   ]
  },
  {
   "cell_type": "code",
   "execution_count": null,
   "metadata": {},
   "outputs": [],
   "source": [
    "merged_df.head()"
   ]
  },
  {
   "cell_type": "code",
   "execution_count": null,
   "metadata": {},
   "outputs": [],
   "source": [
    "# Create a list of the four drugs to examine\n",
    "drugs_of_interest = ['Capomulin', 'Ramicane', 'Infubinol', 'Ceftamin']\n",
    "\n",
    "# look for the chosen drugs by slicing throug the merged df\n",
    "drugs_df = merged_df[merged_df['Drug Regimen'].isin(drugs_of_interest)]"
   ]
  },
  {
   "cell_type": "code",
   "execution_count": null,
   "metadata": {},
   "outputs": [],
   "source": [
    "drugs_df.head(10)"
   ]
  },
  {
   "cell_type": "code",
   "execution_count": null,
   "metadata": {},
   "outputs": [],
   "source": [
    "# groupby Mouse ID and quick aggregation\n",
    "# grab the final tumor volume\n",
    "# by locating -1 element using lamda anonymous function\n",
    "final_vol_list = drugs_df.groupby(['Drug Regimen','Mouse ID']).agg(\\\n",
    "        # Get the last value of the 'Tumor Volume (mm3)' column using a lambda function selecting the element in -1 position\n",
    "        final_size=('Tumor Volume (mm3)',lambda x: x.iloc[-1])).round(3)"
   ]
  },
  {
   "cell_type": "code",
   "execution_count": null,
   "metadata": {},
   "outputs": [],
   "source": [
    "# check the df\n",
    "final_vol_list"
   ]
  },
  {
   "cell_type": "code",
   "execution_count": null,
   "metadata": {},
   "outputs": [],
   "source": [
    "#transpose above df\n",
    "reshape_df = final_vol_list.stack(level = 0).unstack(level = 0)"
   ]
  },
  {
   "cell_type": "code",
   "execution_count": null,
   "metadata": {},
   "outputs": [],
   "source": [
    "reshape_df.head()"
   ]
  },
  {
   "cell_type": "code",
   "execution_count": null,
   "metadata": {},
   "outputs": [],
   "source": [
    "#Calculate the IQR and quantitatively determine if there are any potential outliers.\n",
    "\n",
    "counter = 0\n",
    "\n",
    "\n",
    "# Do quartile calculations for each drug\n",
    "for drug in drugs_of_interest:\n",
    "    quarters  =  reshape_df[drug].quantile([.25,.5,.75]).round(2)\n",
    "    lower_quarter  =  quarters[0.25].round(2)\n",
    "    upper_quarter  =  quarters[0.75].round(2)\n",
    "    iqr  =  round(upper_quarter-lower_quarter,2)\n",
    "    lower_bound  =  round(lower_quarter - (1.5*iqr),2)\n",
    "    upper_bound  =  round(upper_quarter + (1.5*iqr),2)\n",
    "    \n",
    "    # print an escape line for each new loop\n",
    "    if counter == 0:\n",
    "        print(f'\\n')\n",
    "    print(f\"{drug} IQR data is:\")\n",
    "    print(f\"The lower quartile of {drug} is: {lower_quarter}\")\n",
    "    print(f\"The upper quartile of {drug} is: {upper_quarter}\")\n",
    "    print(f\"The interquartile range of {drug} is: {iqr}\")\n",
    "    print(f\"The the median of {drug} is: {quarters[0.5]} \")\n",
    "    print(f\"Values below {lower_bound} for {drug} could be outliers.\")\n",
    "    print(f\"Values above {upper_bound} for {drug} could be outliers.\")\n",
    "    print(f'\\n')\n",
    "    counter += 1"
   ]
  },
  {
   "cell_type": "code",
   "execution_count": null,
   "metadata": {},
   "outputs": [],
   "source": [
    "#box and whisker plot for final tum volumes, and identify outliers\n",
    "\n",
    "# Create an empty list to populate\n",
    "boxplot_list  =  []\n",
    "\n",
    "# loop through the list of the four drugs and populate the boxplot list (list of lists), removing na values\n",
    "for i in drugs_of_interest:\n",
    "    boxplot_list.append(list(reshape_df[i].dropna()))"
   ]
  },
  {
   "cell_type": "code",
   "execution_count": null,
   "metadata": {},
   "outputs": [],
   "source": [
    "# Plot the list of lists and id outlier with a blue diamond\n",
    "fig1, ax  =  plt.subplots(figsize = (9,7))\n",
    "ax.set_title('Final Tumor Volume per each Drug')\n",
    "ax.set_xlabel('Drug Regimen')\n",
    "ax.set_ylabel('Tumor Vol (mm3)')\n",
    "ax.boxplot(boxplot_list,notch = 0,sym = 'bD')\n",
    "plt.xticks([1,2,3,4],drugs_of_interest)\n",
    "\n",
    "plt.show()"
   ]
  },
  {
   "cell_type": "code",
   "execution_count": null,
   "metadata": {},
   "outputs": [],
   "source": [
    "#df for single mouse treated with Capomulin\n",
    "capo_mus = merged_df.loc[merged_df['Drug Regimen'] == 'Capomulin']"
   ]
  },
  {
   "cell_type": "code",
   "execution_count": null,
   "metadata": {},
   "outputs": [],
   "source": [
    "capo_mus.head()"
   ]
  },
  {
   "cell_type": "code",
   "execution_count": null,
   "metadata": {},
   "outputs": [],
   "source": [
    "# group by timepoints and calc tum_vol_avg\n",
    "\n",
    "cap_tum_timepoint = capo_mus.groupby(['Timepoint']).agg(\\\n",
    "        # Get the mean of the 'Tumor Volume (mm3)' column\\\n",
    "        Tum_Vol_Avg=('Tumor Volume (mm3)', np.mean),\\\n",
    ").round(3)"
   ]
  },
  {
   "cell_type": "code",
   "execution_count": null,
   "metadata": {},
   "outputs": [],
   "source": [
    "cap_tum_timepoint.head(10)"
   ]
  },
  {
   "cell_type": "code",
   "execution_count": null,
   "metadata": {},
   "outputs": [],
   "source": [
    "# Plot\n",
    "# store x values\n",
    "x_time_points = list(cap_tum_timepoint.index.values)\n",
    "\n",
    "plt.plot(\n",
    "    x_time_points,\n",
    "    cap_tum_timepoint['Tum_Vol_Avg'],\n",
    "    label=\"Timepoints\",\n",
    "    linewidth=3  # width of plot line\n",
    "    )\n",
    "# Add the descriptive title, x labels and y labels\n",
    "plt.title(\"Time Series of Tumor Volume for Capomulin\")\n",
    "plt.xlabel(\"Time (days)\")\n",
    "plt.ylabel(\"Tumor Volume (mm3)\")\n",
    "\n",
    "# Set x and y limits \n",
    "plt.xlim(min(x_time_points)-max(x_time_points)*0.05, max(x_time_points)*1.05)\n",
    "plt.ylim(min(cap_tum_timepoint['Tum_Vol_Avg'])*0.95, max(cap_tum_timepoint['Tum_Vol_Avg'])*1.05)\n",
    "plt.rcParams[\"figure.figsize\"] = [8,7]\n",
    "\n",
    "plt.show()"
   ]
  },
  {
   "cell_type": "code",
   "execution_count": null,
   "metadata": {},
   "outputs": [],
   "source": [
    "# Scatter Plot of mouse weight by tumor volume avg\n",
    "capo_mus.head()"
   ]
  },
  {
   "cell_type": "code",
   "execution_count": null,
   "metadata": {},
   "outputs": [],
   "source": [
    "# Groupby Mouse ID aggregation\n",
    "mouse_ID  =  capo_mus.groupby(['Mouse ID']).agg(\\\n",
    "        # mean\n",
    "        weight = ('Weight (g)', np.mean),\\\n",
    "        tum_vol_avg = ('Tumor Volume (mm3)', np.mean)\\\n",
    ").round(3)"
   ]
  },
  {
   "cell_type": "code",
   "execution_count": null,
   "metadata": {},
   "outputs": [],
   "source": [
    "mouse_ID.head(30)"
   ]
  },
  {
   "cell_type": "code",
   "execution_count": null,
   "metadata": {},
   "outputs": [],
   "source": [
    "#create scatter plot from the above dataframe\n",
    "plt.scatter(\n",
    "    mouse_ID['weight'],\n",
    "    mouse_ID['tum_vol_avg'],\n",
    "    marker = 'o',\n",
    "    facecolors = 'gray',\n",
    "    edgecolors = 'black',\n",
    "    s = mouse_ID['tum_vol_avg'],\n",
    "    alpha = .75)\n",
    "\n",
    "# Create a title, x label, and y label for our chart\n",
    "plt.title(\"Mouse weight vs. Avg. Tumor Volume\")\n",
    "plt.xlabel(\"Mouse weight (g)\")\n",
    "plt.ylabel(\"Tumor Volume (mm3)\")\n",
    "\n",
    "plt.show()"
   ]
  },
  {
   "cell_type": "code",
   "execution_count": null,
   "metadata": {},
   "outputs": [],
   "source": [
    "#correlation coefficient and linear regression model weight and average tumor volume under Capo treatment\n",
    "correlation  =  st.pearsonr(mouse_ID['weight'],mouse_ID['tum_vol_avg'])\n",
    "print(f\"Correlation is:  {round(correlation[0],3)}\")"
   ]
  },
  {
   "cell_type": "code",
   "execution_count": null,
   "metadata": {},
   "outputs": [],
   "source": [
    "# r-squared analysis\n",
    "x_values  =  mouse_ID['weight']\n",
    "y_values  =  mouse_ID['tum_vol_avg']\n",
    "(slope, intercept, rvalue, pvalue, stderr)  =  linregress(x_values, y_values)\n",
    "regress_values  =  x_values * slope + intercept\n",
    "#line_eq  =  \"y  =  \" + str(round(slope,2)) + \"x + \" + str(round(intercept,2))\n",
    "line_eq  =  f'y  =  {str(round(slope,2))}x + {str(round(intercept,2))}'\n",
    "plt.scatter(x_values,y_values)\n",
    "plt.plot(x_values,regress_values,\"r-\")\n",
    "plt.annotate(line_eq,(17,37),fontsize = 15,color = \"black\")\n",
    "plt.title(\"Weight by Average Tumor Volume\")\n",
    "plt.xlabel(\"Weight (g)\")\n",
    "plt.ylabel(\"Tumor Volume (mm3)\")\n",
    "\n",
    "plt.show()"
   ]
  },
  {
   "cell_type": "code",
   "execution_count": null,
   "metadata": {},
   "outputs": [],
   "source": []
  }
 ],
 "metadata": {
  "kernelspec": {
   "display_name": "Python 3",
   "language": "python",
   "name": "python3"
  },
  "language_info": {
   "codemirror_mode": {
    "name": "ipython",
    "version": 3
   },
   "file_extension": ".py",
   "mimetype": "text/x-python",
   "name": "python",
   "nbconvert_exporter": "python",
   "pygments_lexer": "ipython3",
   "version": "3.7.7"
  }
 },
 "nbformat": 4,
 "nbformat_minor": 4
}
